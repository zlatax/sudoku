{
 "cells": [
  {
   "cell_type": "code",
   "execution_count": 6,
   "id": "starting-paris",
   "metadata": {},
   "outputs": [],
   "source": [
    "import pygame\n",
    "from pygame.locals import *"
   ]
  },
  {
   "cell_type": "code",
   "execution_count": 7,
   "id": "according-morocco",
   "metadata": {},
   "outputs": [],
   "source": [
    "def main():\n",
    "    # Initialise screen\n",
    "    pygame.init()\n",
    "    screen = pygame.display.set_mode((150, 50))\n",
    "    pygame.display.set_caption('Basic Pygame program')\n",
    "\n",
    "    # Fill background\n",
    "    background = pygame.Surface(screen.get_size())\n",
    "    background = background.convert()\n",
    "    background.fill((250, 250, 250))\n",
    "\n",
    "    # Display some text\n",
    "    boldfinger = pygame.font.Font(\"Boldfinger.ttf\",12)\n",
    "    text = boldfinger.render(\"Hello There\", 1, (10, 10, 10))\n",
    "    textpos = text.get_rect()\n",
    "    textpos.centerx = background.get_rect().centerx\n",
    "    background.blit(text, textpos)\n",
    "\n",
    "    # Blit everything to the screen\n",
    "    screen.blit(background, (0, 0))\n",
    "    pygame.display.flip()\n",
    "\n",
    "    # Event loop\n",
    "    while 1:\n",
    "        for event in pygame.event.get():\n",
    "            if event.type == QUIT:\n",
    "                return\n",
    "\n",
    "        screen.blit(background, (0, 0))\n",
    "        pygame.display.flip()"
   ]
  },
  {
   "cell_type": "code",
   "execution_count": 8,
   "id": "liked-interim",
   "metadata": {},
   "outputs": [],
   "source": [
    "main()"
   ]
  },
  {
   "cell_type": "code",
   "execution_count": null,
   "id": "passive-jamaica",
   "metadata": {},
   "outputs": [],
   "source": []
  }
 ],
 "metadata": {
  "kernelspec": {
   "display_name": "Python 3",
   "language": "python",
   "name": "python3"
  },
  "language_info": {
   "codemirror_mode": {
    "name": "ipython",
    "version": 3
   },
   "file_extension": ".py",
   "mimetype": "text/x-python",
   "name": "python",
   "nbconvert_exporter": "python",
   "pygments_lexer": "ipython3",
   "version": "3.8.3"
  }
 },
 "nbformat": 4,
 "nbformat_minor": 5
}
