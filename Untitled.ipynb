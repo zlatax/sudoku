{
 "cells": [
  {
   "cell_type": "code",
   "execution_count": 2,
   "id": "laughing-found",
   "metadata": {},
   "outputs": [
    {
     "ename": "SyntaxError",
     "evalue": "invalid syntax (<ipython-input-2-7a081fcb2036>, line 1)",
     "output_type": "error",
     "traceback": [
      "\u001b[0;36m  File \u001b[0;32m\"<ipython-input-2-7a081fcb2036>\"\u001b[0;36m, line \u001b[0;32m1\u001b[0m\n\u001b[0;31m    from tkinter import * as tk\u001b[0m\n\u001b[0m                          ^\u001b[0m\n\u001b[0;31mSyntaxError\u001b[0m\u001b[0;31m:\u001b[0m invalid syntax\n"
     ]
    }
   ],
   "source": [
    "from tkinter import *"
   ]
  },
  {
   "cell_type": "code",
   "execution_count": 4,
   "id": "brown-joshua",
   "metadata": {},
   "outputs": [
    {
     "name": "stdout",
     "output_type": "stream",
     "text": [
      "Canvas:  <bound method Misc.winfo_x of <tkinter.Canvas object .!canvas>> <bound method Misc.winfo_y of <tkinter.Canvas object .!canvas>>\n",
      "Coords 37 327\n",
      "Coords 163 116\n",
      "Coords 327 193\n",
      "Coords 13 -10\n"
     ]
    }
   ],
   "source": [
    "class window():\n",
    "\tdef __init__(self):\n",
    "\t\tself.window = Tk()\n",
    "\t\tself.canvas = Canvas(self.window,height=500,width=500,bg='green')\n",
    "\t\tself.canvas.pack()\n",
    "\t\tself.canvas.update()\n",
    "\t\tprint(\"Canvas: \",self.canvas.winfo_x,self.canvas.winfo_y)\n",
    "\t\tline = self.canvas.create_line(10,100,1,100,fill='red')\n",
    "\t\tself.window.bind('<Button 1>',self.click)\n",
    "\n",
    "\tdef click(self,event):\n",
    "\t\tprint(\"Coords\",event.x,event.y)\n",
    "        num = Text(self.canvas)\n",
    "        root.grid()\n",
    "\n",
    "\tdef mainloop(self):\n",
    "\t\tself.window.mainloop()\n",
    "\n",
    "if __name__ == \"__main__\":\n",
    "\tgame = window()\n",
    "\tgame.mainloop()"
   ]
  },
  {
   "cell_type": "code",
   "execution_count": 9,
   "id": "clear-cliff",
   "metadata": {},
   "outputs": [],
   "source": [
    "import numpy as np\n",
    "import pandas as pd"
   ]
  },
  {
   "cell_type": "code",
   "execution_count": 2,
   "id": "senior-boxing",
   "metadata": {},
   "outputs": [
    {
     "data": {
      "text/plain": [
       "array([[9, 6, 3, 4, 7, 3, 1, 3, 8],\n",
       "       [3, 3, 2, 8, 4, 8, 2, 4, 1],\n",
       "       [2, 7, 6, 7, 3, 1, 7, 6, 5],\n",
       "       [8, 2, 8, 9, 3, 7, 3, 3, 3],\n",
       "       [4, 5, 5, 1, 4, 3, 4, 2, 6],\n",
       "       [8, 9, 2, 3, 7, 1, 2, 1, 4],\n",
       "       [5, 4, 1, 4, 8, 5, 5, 1, 7],\n",
       "       [9, 9, 8, 5, 9, 5, 5, 9, 3],\n",
       "       [7, 6, 8, 5, 1, 9, 3, 5, 7]])"
      ]
     },
     "execution_count": 2,
     "metadata": {},
     "output_type": "execute_result"
    }
   ],
   "source": [
    "np.array(np.random.random((9,9))*9+1, dtype ='int64')"
   ]
  },
  {
   "cell_type": "markdown",
   "id": "eleven-quarter",
   "metadata": {},
   "source": [
    "## sudoku solver\n",
    "import a sudoku file/stdin and return the full array of numbers completing the sudoku puzzle"
   ]
  },
  {
   "cell_type": "code",
   "execution_count": 11,
   "id": "offensive-lighter",
   "metadata": {},
   "outputs": [],
   "source": [
    "problem = \"070000043040009610800634900094052000358460020000800530080070091902100005007040802\""
   ]
  },
  {
   "cell_type": "code",
   "execution_count": 48,
   "id": "discrete-graph",
   "metadata": {},
   "outputs": [],
   "source": [
    "## print problem nicely\n",
    "def printSudoku(p):\n",
    "    print(\"-\"*25)\n",
    "    count=0\n",
    "    rowcount=0\n",
    "    for num in p:\n",
    "        if num == \"0\":\n",
    "                num = \" \"\n",
    "        count+=1\n",
    "        if count < 9 and count%3 ==1:\n",
    "            \n",
    "            print(\"| {} \".format(num),end=\"\")\n",
    "        elif count==9:\n",
    "            print(\"{} |\".format(num))\n",
    "            count=0\n",
    "            rowcount+=1\n",
    "            if rowcount == 3:\n",
    "                print(\"-\"*25)\n",
    "                rowcount=0\n",
    "        else:\n",
    "            print(\"{} \".format(num),end=\"\")\n",
    "            "
   ]
  },
  {
   "cell_type": "code",
   "execution_count": 49,
   "id": "defensive-central",
   "metadata": {},
   "outputs": [
    {
     "name": "stdout",
     "output_type": "stream",
     "text": [
      "-------------------------\n",
      "|   7   |       |   4 3 |\n",
      "|   4   |     9 | 6 1   |\n",
      "| 8     | 6 3 4 | 9     |\n",
      "-------------------------\n",
      "|   9 4 |   5 2 |       |\n",
      "| 3 5 8 | 4 6   |   2   |\n",
      "|       | 8     | 5 3   |\n",
      "-------------------------\n",
      "|   8   |   7   |   9 1 |\n",
      "| 9   2 | 1     |     5 |\n",
      "|     7 |   4   | 8   2 |\n",
      "-------------------------\n"
     ]
    }
   ],
   "source": [
    "printSudoku(problem)"
   ]
  },
  {
   "cell_type": "code",
   "execution_count": 87,
   "id": "advanced-colorado",
   "metadata": {},
   "outputs": [],
   "source": [
    "## need a normaliser e.g.\n",
    "\n",
    "def getSquare(num):\n",
    "    if num in range(1,4): return range(3)\n",
    "    elif num in range(3,7): return range(3,6)\n",
    "    else: return range(6,9)\n",
    "\n",
    "def isinSquare(board,num,row,col):\n",
    "    if (board.loc[getSquare(row),getSquare(col)] == num).any().any() == True:\n",
    "        return True\n",
    "    else: return False"
   ]
  },
  {
   "cell_type": "code",
   "execution_count": 90,
   "id": "forty-nightlife",
   "metadata": {},
   "outputs": [
    {
     "data": {
      "text/plain": [
       "False"
      ]
     },
     "execution_count": 90,
     "metadata": {},
     "output_type": "execute_result"
    }
   ],
   "source": [
    "isinSquare(df, 9,1,1)"
   ]
  },
  {
   "cell_type": "code",
   "execution_count": null,
   "id": "invisible-carbon",
   "metadata": {},
   "outputs": [],
   "source": [
    "isinSquare(df, 0,1)"
   ]
  },
  {
   "cell_type": "code",
   "execution_count": 103,
   "id": "documentary-grocery",
   "metadata": {},
   "outputs": [
    {
     "name": "stdout",
     "output_type": "stream",
     "text": [
      "1\n",
      "2\n",
      "3\n",
      "4\n",
      "5\n",
      "6\n",
      "7\n",
      "8\n",
      "9\n"
     ]
    }
   ],
   "source": [
    "for i in range(1,10):\n",
    "    print(i)"
   ]
  },
  {
   "cell_type": "code",
   "execution_count": 102,
   "id": "recognized-baker",
   "metadata": {},
   "outputs": [
    {
     "name": "stdout",
     "output_type": "stream",
     "text": [
      "[1 7 0 0 0 0 0 4 3]\n",
      "[0 4 0 0 0 9 6 1 0]\n",
      "[8 0 0 6 3 4 9 0 0]\n",
      "[0 9 4 0 5 2 0 0 0]\n",
      "[3 5 8 4 6 0 0 2 0]\n",
      "[0 0 0 8 0 0 5 3 0]\n",
      "[0 8 0 0 7 0 0 9 1]\n",
      "[9 0 2 1 0 0 0 0 5]\n",
      "[0 0 7 0 4 0 8 0 2]\n"
     ]
    }
   ],
   "source": [
    "for num in [x for x in df.values]:\n",
    "    print(num)"
   ]
  },
  {
   "cell_type": "code",
   "execution_count": 51,
   "id": "addressed-vietnamese",
   "metadata": {},
   "outputs": [],
   "source": [
    "import numpy as np\n",
    "import pandas as pd\n",
    "problemArr = np.reshape([int(char) for char in problem],(9,9))"
   ]
  },
  {
   "cell_type": "code",
   "execution_count": 52,
   "id": "european-tender",
   "metadata": {},
   "outputs": [],
   "source": [
    "df = pd.DataFrame(problemArr)"
   ]
  },
  {
   "cell_type": "code",
   "execution_count": 78,
   "id": "extra-dominant",
   "metadata": {},
   "outputs": [
    {
     "name": "stdout",
     "output_type": "stream",
     "text": [
      "0\n",
      "1\n"
     ]
    }
   ],
   "source": [
    "for i in range(2):\n",
    "    print(i)"
   ]
  },
  {
   "cell_type": "markdown",
   "id": "dense-choir",
   "metadata": {},
   "source": [
    "Strategy to solve puzzle"
   ]
  },
  {
   "cell_type": "code",
   "execution_count": 77,
   "id": "secret-patch",
   "metadata": {},
   "outputs": [],
   "source": [
    "if (df.loc[0:2,0:2] == 6).any().any() == True:\n",
    "    print(0)"
   ]
  },
  {
   "cell_type": "code",
   "execution_count": 72,
   "id": "korean-reviewer",
   "metadata": {},
   "outputs": [],
   "source": [
    "truth = df.loc[0:2,0:2] == 7"
   ]
  },
  {
   "cell_type": "code",
   "execution_count": 75,
   "id": "southern-sister",
   "metadata": {},
   "outputs": [
    {
     "data": {
      "text/plain": [
       "True"
      ]
     },
     "execution_count": 75,
     "metadata": {},
     "output_type": "execute_result"
    }
   ],
   "source": [
    "truth.any().any()"
   ]
  },
  {
   "cell_type": "code",
   "execution_count": 160,
   "id": "surgical-willow",
   "metadata": {},
   "outputs": [],
   "source": [
    "def hi(three):\n",
    "    print(three,two)"
   ]
  },
  {
   "cell_type": "code",
   "execution_count": 247,
   "id": "corrected-martin",
   "metadata": {},
   "outputs": [],
   "source": [
    "class sudoku():\n",
    "    def __init__(self,df):\n",
    "        self.df = df\n",
    "        \n",
    "        self.lastSearch = None\n",
    "\n",
    "    def nextPos(self):\n",
    "        if self.lastSearch is None:\n",
    "            row = col = 0\n",
    "        elif self.lastSearch[1] == 8:\n",
    "            row = self.lastSearch[0]+1\n",
    "            col = 0\n",
    "        elif self.lastSearch == (self.df.shape[0]+1, self.df.shape[1]+1):\n",
    "            return None\n",
    "        else:\n",
    "            row = self.lastSearch[0]\n",
    "            col = self.lastSearch[1]+1\n",
    "    \n",
    "        for r in range(row,self.df.shape[0]):\n",
    "            for c in range(col, self.df.shape[1]):\n",
    "                if df.loc[r,c] == 0:\n",
    "                    self.lastSearch = (r,c)\n",
    "                    return r,c\n",
    "            col = 0\n",
    "        return None\n",
    "\n",
    "    def prevPos(self):\n",
    "        if self.lastSearch is None or self.lastSearch == (0,0):\n",
    "            return None\n",
    "        elif self.lastSearch[1] == 0:\n",
    "            row = self.lastSearch[0]-1\n",
    "            col = 8\n",
    "        else:\n",
    "            row = self.lastSearch[0]\n",
    "            col = self.lastSearch[1]-1\n",
    "        \n",
    "        \n",
    "        for r in range(row,-1,-1):\n",
    "            for c in range(col,-1,-1):\n",
    "                if df.loc[r,c] == 0:\n",
    "                    return (r,c)\n",
    "            col =self.df.shape[1]\n",
    "        return None\n",
    "        "
   ]
  },
  {
   "cell_type": "code",
   "execution_count": 248,
   "id": "neural-worst",
   "metadata": {},
   "outputs": [],
   "source": [
    "game = sudoku(df)"
   ]
  },
  {
   "cell_type": "raw",
   "id": "occasional-keeping",
   "metadata": {},
   "source": [
    "pos = game.prevPos()"
   ]
  },
  {
   "cell_type": "code",
   "execution_count": 256,
   "id": "coastal-programmer",
   "metadata": {},
   "outputs": [
    {
     "name": "stdout",
     "output_type": "stream",
     "text": [
      "0 4\n",
      "0 3\n",
      "0 2\n",
      "0 1\n",
      "0 0\n"
     ]
    }
   ],
   "source": [
    "for r in range(0,-1,-1):\n",
    "    for c in range(4,-1,-1):\n",
    "        print(r,c)"
   ]
  },
  {
   "cell_type": "code",
   "execution_count": 257,
   "id": "sensitive-shaft",
   "metadata": {},
   "outputs": [],
   "source": [
    "mydict = dict()"
   ]
  },
  {
   "cell_type": "code",
   "execution_count": 258,
   "id": "standing-wisdom",
   "metadata": {},
   "outputs": [],
   "source": [
    "mydict[None] = 2"
   ]
  },
  {
   "cell_type": "code",
   "execution_count": 96,
   "id": "affiliated-processing",
   "metadata": {},
   "outputs": [],
   "source": [
    "def getRemaining():\n",
    "    remain = dict()\n",
    "    for col in range(df.shape[0]):\n",
    "        for row in range(df.shape[1]):\n",
    "            if df.loc[row,col] != 0: remain[\"{}{}\".format(row,col)] = 0\n",
    "            else:\n",
    "                remain[\"{}{}\".format(row,col)] = [x for x in range(1,10) if x not in (y for y in df.loc[:,row]) and x not in(z for z in df.loc[col,:])]\n",
    "    return remain\n",
    "            \n",
    "def update():\n",
    "    pass"
   ]
  },
  {
   "cell_type": "code",
   "execution_count": 260,
   "id": "arabic-handy",
   "metadata": {},
   "outputs": [],
   "source": [
    "mydict[(1,2)] = (2,3)"
   ]
  },
  {
   "cell_type": "code",
   "execution_count": 262,
   "id": "russian-teaching",
   "metadata": {},
   "outputs": [
    {
     "data": {
      "text/plain": [
       "{None: 2, (1, 2): (2, 3)}"
      ]
     },
     "execution_count": 262,
     "metadata": {},
     "output_type": "execute_result"
    }
   ],
   "source": [
    "mydict"
   ]
  },
  {
   "cell_type": "code",
   "execution_count": 22,
   "id": "posted-farming",
   "metadata": {},
   "outputs": [
    {
     "data": {
      "text/plain": [
       "[1, 2, 4, 5, 6, 7]"
      ]
     },
     "execution_count": 22,
     "metadata": {},
     "output_type": "execute_result"
    }
   ],
   "source": [
    "for \n",
    "    [x for x in nums if x!= [y for y in df.loc[:,0]]]"
   ]
  },
  {
   "cell_type": "code",
   "execution_count": 5,
   "id": "nervous-employment",
   "metadata": {},
   "outputs": [
    {
     "ename": "NameError",
     "evalue": "name 'df' is not defined",
     "output_type": "error",
     "traceback": [
      "\u001b[0;31m---------------------------------------------------------------------------\u001b[0m",
      "\u001b[0;31mNameError\u001b[0m                                 Traceback (most recent call last)",
      "\u001b[0;32m<ipython-input-5-00cf07b74dcd>\u001b[0m in \u001b[0;36m<module>\u001b[0;34m\u001b[0m\n\u001b[0;32m----> 1\u001b[0;31m \u001b[0mdf\u001b[0m\u001b[0;34m\u001b[0m\u001b[0;34m\u001b[0m\u001b[0m\n\u001b[0m",
      "\u001b[0;31mNameError\u001b[0m: name 'df' is not defined"
     ]
    }
   ],
   "source": [
    "df.loc[]"
   ]
  },
  {
   "cell_type": "code",
   "execution_count": 265,
   "id": "streaming-devices",
   "metadata": {},
   "outputs": [],
   "source": [
    "%load_ext autoreload\n",
    "%autoreload 2\n",
    "\n",
    "import src.sudoku as sudoku"
   ]
  },
  {
   "cell_type": "code",
   "execution_count": 266,
   "id": "turned-track",
   "metadata": {},
   "outputs": [],
   "source": [
    "game = sudoku.Sudoku(problem)"
   ]
  },
  {
   "cell_type": "code",
   "execution_count": 268,
   "id": "pediatric-profit",
   "metadata": {},
   "outputs": [
    {
     "name": "stdout",
     "output_type": "stream",
     "text": [
      "change 0,0 to: 1\n",
      "change 0,2 to: 5\n",
      "change 0,3 to: 2\n",
      "change 0,4 to: 8\n",
      "change 0,2 to: 6\n",
      "change 0,3 to: 2\n",
      "change 0,4 to: 8\n",
      "change 0,5 to: 5\n",
      "change 0,3 to: 5\n",
      "change 0,4 to: 2\n",
      "change 0,5 to: 8\n",
      "change 0,4 to: 8\n",
      "change 0,2 to: 9\n",
      "change 0,3 to: 2\n",
      "change 0,4 to: 8\n",
      "change 0,5 to: 5\n",
      "change 0,3 to: 5\n",
      "change 0,4 to: 2\n",
      "change 0,5 to: 8\n",
      "change 0,4 to: 8\n",
      "change 0,0 to: 2\n",
      "change 0,2 to: 1\n",
      "change 0,3 to: 5\n",
      "change 0,4 to: 8\n",
      "change 0,2 to: 5\n",
      "change 0,2 to: 6\n",
      "change 0,3 to: 5\n",
      "change 0,4 to: 1\n",
      "change 0,5 to: 8\n",
      "change 0,4 to: 8\n",
      "change 0,5 to: 1\n",
      "change 0,2 to: 9\n",
      "change 0,3 to: 5\n",
      "change 0,4 to: 1\n",
      "change 0,5 to: 8\n",
      "change 0,4 to: 8\n",
      "change 0,5 to: 1\n",
      "change 0,0 to: 5\n",
      "change 0,2 to: 1\n",
      "change 0,3 to: 2\n",
      "change 0,4 to: 8\n",
      "change 0,2 to: 6\n",
      "change 0,3 to: 2\n",
      "change 0,4 to: 1\n",
      "change 0,5 to: 8\n",
      "change 0,4 to: 8\n",
      "change 0,5 to: 1\n",
      "change 0,2 to: 9\n",
      "change 0,3 to: 2\n",
      "change 0,4 to: 1\n",
      "change 0,5 to: 8\n",
      "change 0,4 to: 8\n",
      "change 0,5 to: 1\n",
      "change 0,0 to: 6\n",
      "change 0,2 to: 1\n",
      "change 0,3 to: 2\n",
      "change 0,4 to: 8\n",
      "change 0,5 to: 5\n",
      "change 0,3 to: 5\n",
      "change 0,4 to: 2\n",
      "change 0,5 to: 8\n",
      "change 0,4 to: 8\n",
      "change 0,2 to: 5\n",
      "change 0,3 to: 2\n",
      "change 0,4 to: 1\n",
      "change 0,5 to: 8\n",
      "change 0,4 to: 8\n",
      "change 0,5 to: 1\n",
      "change 0,2 to: 9\n",
      "change 0,3 to: 2\n",
      "change 0,4 to: 1\n",
      "change 0,5 to: 5\n",
      "change 0,5 to: 8\n",
      "change 0,4 to: 8\n",
      "change 0,5 to: 1\n",
      "change 0,5 to: 5\n",
      "change 0,3 to: 5\n",
      "change 0,4 to: 1\n",
      "change 0,5 to: 8\n",
      "change 0,6 to: 2\n",
      "change 1,0 to: 2\n",
      "change 1,2 to: 3\n",
      "change 1,3 to: 7\n",
      "change 1,2 to: 5\n",
      "change 1,3 to: 7\n",
      "change 1,0 to: 5\n",
      "change 1,2 to: 3\n",
      "change 1,3 to: 2\n",
      "change 1,3 to: 7\n",
      "change 1,4 to: 2\n",
      "change 1,8 to: 8\n",
      "change 2,1 to: 1\n",
      "change 2,1 to: 2\n",
      "change 2,2 to: 1\n",
      "change 2,7 to: 5\n",
      "change 2,8 to: 7\n",
      "change 3,0 to: 1\n",
      "change 3,3 to: 3\n",
      "change 3,6 to: 7\n",
      "change 3,7 to: 6\n",
      "change 3,7 to: 8\n",
      "change 3,8 to: 6\n",
      "change 4,5 to: 1\n",
      "change 4,5 to: 7\n",
      "change 4,6 to: 1\n",
      "change 4,8 to: 9\n",
      "change 5,0 to: 2\n",
      "change 5,1 to: 6\n",
      "change 5,0 to: 7\n",
      "change 5,1 to: 6\n",
      "change 3,0 to: 7\n",
      "change 3,3 to: 3\n",
      "change 3,6 to: 1\n",
      "change 3,7 to: 6\n",
      "change 3,7 to: 8\n",
      "change 3,8 to: 6\n",
      "change 4,5 to: 1\n",
      "change 4,6 to: 7\n",
      "change 4,8 to: 9\n",
      "change 5,0 to: 1\n",
      "change 5,1 to: 6\n",
      "change 5,0 to: 2\n",
      "change 5,1 to: 1\n",
      "change 5,2 to: 6\n",
      "change 5,4 to: 9\n",
      "change 5,5 to: 7\n",
      "change 5,8 to: 4\n",
      "change 6,0 to: 4\n",
      "change 6,2 to: 5\n",
      "change 6,3 to: 2\n",
      "change 6,5 to: 3\n",
      "change 6,5 to: 6\n",
      "change 6,6 to: 3\n",
      "change 7,1 to: 3\n",
      "change 7,4 to: 8\n",
      "change 7,1 to: 6\n",
      "change 7,4 to: 8\n",
      "change 7,5 to: 3\n",
      "change 7,6 to: 4\n",
      "change 7,7 to: 7\n",
      "change 8,0 to: 1\n",
      "change 8,1 to: 3\n",
      "change 8,3 to: 9\n",
      "change 8,5 to: 5\n",
      "change 8,7 to: 6\n"
     ]
    }
   ],
   "source": [
    "game.run()"
   ]
  },
  {
   "cell_type": "code",
   "execution_count": 282,
   "id": "gorgeous-logic",
   "metadata": {},
   "outputs": [
    {
     "name": "stdout",
     "output_type": "stream",
     "text": [
      "['070000043040009610800634900094052000358460020000800530080070091902100005007040802\\n', '301086504046521070500000001400800002080347900009050038004090200008734090007208103']\n"
     ]
    }
   ],
   "source": [
    "with open(\"res/problem1.txt\",'r') as f:\n",
    "    print(f.readlines())"
   ]
  },
  {
   "cell_type": "code",
   "execution_count": 54,
   "id": "developing-north",
   "metadata": {},
   "outputs": [],
   "source": [
    "game.updateBoard(remaining)"
   ]
  },
  {
   "cell_type": "code",
   "execution_count": 57,
   "id": "quantitative-lunch",
   "metadata": {},
   "outputs": [
    {
     "data": {
      "text/html": [
       "<div>\n",
       "<style scoped>\n",
       "    .dataframe tbody tr th:only-of-type {\n",
       "        vertical-align: middle;\n",
       "    }\n",
       "\n",
       "    .dataframe tbody tr th {\n",
       "        vertical-align: top;\n",
       "    }\n",
       "\n",
       "    .dataframe thead th {\n",
       "        text-align: right;\n",
       "    }\n",
       "</style>\n",
       "<table border=\"1\" class=\"dataframe\">\n",
       "  <thead>\n",
       "    <tr style=\"text-align: right;\">\n",
       "      <th></th>\n",
       "      <th>0</th>\n",
       "      <th>1</th>\n",
       "      <th>2</th>\n",
       "      <th>3</th>\n",
       "      <th>4</th>\n",
       "      <th>5</th>\n",
       "      <th>6</th>\n",
       "      <th>7</th>\n",
       "      <th>8</th>\n",
       "    </tr>\n",
       "  </thead>\n",
       "  <tbody>\n",
       "    <tr>\n",
       "      <th>0</th>\n",
       "      <td>0</td>\n",
       "      <td>7</td>\n",
       "      <td>0</td>\n",
       "      <td>0</td>\n",
       "      <td>0</td>\n",
       "      <td>0</td>\n",
       "      <td>0</td>\n",
       "      <td>4</td>\n",
       "      <td>3</td>\n",
       "    </tr>\n",
       "    <tr>\n",
       "      <th>1</th>\n",
       "      <td>0</td>\n",
       "      <td>4</td>\n",
       "      <td>0</td>\n",
       "      <td>0</td>\n",
       "      <td>0</td>\n",
       "      <td>9</td>\n",
       "      <td>6</td>\n",
       "      <td>1</td>\n",
       "      <td>0</td>\n",
       "    </tr>\n",
       "    <tr>\n",
       "      <th>2</th>\n",
       "      <td>8</td>\n",
       "      <td>0</td>\n",
       "      <td>0</td>\n",
       "      <td>6</td>\n",
       "      <td>3</td>\n",
       "      <td>4</td>\n",
       "      <td>9</td>\n",
       "      <td>0</td>\n",
       "      <td>7</td>\n",
       "    </tr>\n",
       "    <tr>\n",
       "      <th>3</th>\n",
       "      <td>0</td>\n",
       "      <td>9</td>\n",
       "      <td>4</td>\n",
       "      <td>0</td>\n",
       "      <td>5</td>\n",
       "      <td>2</td>\n",
       "      <td>0</td>\n",
       "      <td>0</td>\n",
       "      <td>0</td>\n",
       "    </tr>\n",
       "    <tr>\n",
       "      <th>4</th>\n",
       "      <td>3</td>\n",
       "      <td>5</td>\n",
       "      <td>8</td>\n",
       "      <td>4</td>\n",
       "      <td>6</td>\n",
       "      <td>0</td>\n",
       "      <td>0</td>\n",
       "      <td>2</td>\n",
       "      <td>0</td>\n",
       "    </tr>\n",
       "    <tr>\n",
       "      <th>5</th>\n",
       "      <td>0</td>\n",
       "      <td>0</td>\n",
       "      <td>0</td>\n",
       "      <td>8</td>\n",
       "      <td>0</td>\n",
       "      <td>0</td>\n",
       "      <td>5</td>\n",
       "      <td>3</td>\n",
       "      <td>0</td>\n",
       "    </tr>\n",
       "    <tr>\n",
       "      <th>6</th>\n",
       "      <td>0</td>\n",
       "      <td>8</td>\n",
       "      <td>0</td>\n",
       "      <td>0</td>\n",
       "      <td>7</td>\n",
       "      <td>0</td>\n",
       "      <td>0</td>\n",
       "      <td>9</td>\n",
       "      <td>1</td>\n",
       "    </tr>\n",
       "    <tr>\n",
       "      <th>7</th>\n",
       "      <td>9</td>\n",
       "      <td>0</td>\n",
       "      <td>2</td>\n",
       "      <td>1</td>\n",
       "      <td>8</td>\n",
       "      <td>0</td>\n",
       "      <td>0</td>\n",
       "      <td>0</td>\n",
       "      <td>5</td>\n",
       "    </tr>\n",
       "    <tr>\n",
       "      <th>8</th>\n",
       "      <td>0</td>\n",
       "      <td>0</td>\n",
       "      <td>7</td>\n",
       "      <td>0</td>\n",
       "      <td>4</td>\n",
       "      <td>0</td>\n",
       "      <td>8</td>\n",
       "      <td>0</td>\n",
       "      <td>2</td>\n",
       "    </tr>\n",
       "  </tbody>\n",
       "</table>\n",
       "</div>"
      ],
      "text/plain": [
       "   0  1  2  3  4  5  6  7  8\n",
       "0  0  7  0  0  0  0  0  4  3\n",
       "1  0  4  0  0  0  9  6  1  0\n",
       "2  8  0  0  6  3  4  9  0  7\n",
       "3  0  9  4  0  5  2  0  0  0\n",
       "4  3  5  8  4  6  0  0  2  0\n",
       "5  0  0  0  8  0  0  5  3  0\n",
       "6  0  8  0  0  7  0  0  9  1\n",
       "7  9  0  2  1  8  0  0  0  5\n",
       "8  0  0  7  0  4  0  8  0  2"
      ]
     },
     "execution_count": 57,
     "metadata": {},
     "output_type": "execute_result"
    }
   ],
   "source": []
  },
  {
   "cell_type": "code",
   "execution_count": 58,
   "id": "surprised-council",
   "metadata": {},
   "outputs": [
    {
     "data": {
      "text/plain": [
       "{'00': [1, 2, 5, 6],\n",
       " '01': [2, 5, 7],\n",
       " '02': [0],\n",
       " '03': [1, 6, 7],\n",
       " '04': [0],\n",
       " '05': [1, 2, 4, 6, 7],\n",
       " '06': [2, 4, 5, 6],\n",
       " '07': [0],\n",
       " '08': [1, 5, 6],\n",
       " '10': [0],\n",
       " '11': [0],\n",
       " '12': [1, 2],\n",
       " '13': [0],\n",
       " '14': [0],\n",
       " '15': [1, 2, 6],\n",
       " '16': [0],\n",
       " '17': [3, 6],\n",
       " '18': [1, 3, 6],\n",
       " '20': [1, 5, 6, 9],\n",
       " '21': [3, 5],\n",
       " '22': [1, 5],\n",
       " '23': [0],\n",
       " '24': [0],\n",
       " '25': [1, 6, 9],\n",
       " '26': [3, 5, 6],\n",
       " '27': [0],\n",
       " '28': [0],\n",
       " '30': [2, 5, 9],\n",
       " '31': [2, 3, 5, 7],\n",
       " '32': [0],\n",
       " '33': [3, 7],\n",
       " '34': [0],\n",
       " '35': [0],\n",
       " '36': [2, 3, 5],\n",
       " '37': [0],\n",
       " '38': [3, 5, 9],\n",
       " '40': [1, 2, 9],\n",
       " '41': [2],\n",
       " '42': [0],\n",
       " '43': [0],\n",
       " '44': [0],\n",
       " '45': [1, 2, 9],\n",
       " '46': [0],\n",
       " '47': [0],\n",
       " '48': [0],\n",
       " '50': [1, 5, 6, 8],\n",
       " '51': [0],\n",
       " '52': [0],\n",
       " '53': [0],\n",
       " '54': [1, 7],\n",
       " '55': [1, 6, 7],\n",
       " '56': [3, 5, 6],\n",
       " '57': [3, 6, 7],\n",
       " '58': [1, 3, 5, 6],\n",
       " '60': [1, 2],\n",
       " '61': [0],\n",
       " '62': [0],\n",
       " '63': [1, 3, 7],\n",
       " '64': [1, 7],\n",
       " '65': [0],\n",
       " '66': [2, 3, 4],\n",
       " '67': [3, 4, 7],\n",
       " '68': [0],\n",
       " '70': [0],\n",
       " '71': [0],\n",
       " '72': [5],\n",
       " '73': [6, 7, 8],\n",
       " '74': [0],\n",
       " '75': [0],\n",
       " '76': [0],\n",
       " '77': [6, 7],\n",
       " '78': [5, 6],\n",
       " '80': [0],\n",
       " '81': [8],\n",
       " '82': [0],\n",
       " '83': [6, 8],\n",
       " '84': [9],\n",
       " '85': [4, 6, 9],\n",
       " '86': [0],\n",
       " '87': [0],\n",
       " '88': [0]}"
      ]
     },
     "execution_count": 58,
     "metadata": {},
     "output_type": "execute_result"
    }
   ],
   "source": [
    "game.getRemaining()"
   ]
  },
  {
   "cell_type": "markdown",
   "id": "affected-russian",
   "metadata": {},
   "source": [
    "## maybe make objects for every row, and square"
   ]
  },
  {
   "cell_type": "code",
   "execution_count": null,
   "id": "suffering-blackberry",
   "metadata": {},
   "outputs": [],
   "source": []
  }
 ],
 "metadata": {
  "kernelspec": {
   "display_name": "Python 3",
   "language": "python",
   "name": "python3"
  },
  "language_info": {
   "codemirror_mode": {
    "name": "ipython",
    "version": 3
   },
   "file_extension": ".py",
   "mimetype": "text/x-python",
   "name": "python",
   "nbconvert_exporter": "python",
   "pygments_lexer": "ipython3",
   "version": "3.8.3"
  }
 },
 "nbformat": 4,
 "nbformat_minor": 5
}
